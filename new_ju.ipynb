{
 "cells": [
  {
   "cell_type": "markdown",
   "metadata": {},
   "source": []
  },
  {
   "cell_type": "code",
   "execution_count": 12,
   "metadata": {},
   "outputs": [
    {
     "data": {
      "text/plain": [
       "'2.9.1'"
      ]
     },
     "execution_count": 12,
     "metadata": {},
     "output_type": "execute_result"
    }
   ],
   "source": [
    "import tensorflow as tf\n",
    "tf.__version__\n",
    "import keras\n",
    "keras.__version__"
   ]
  },
  {
   "cell_type": "markdown",
   "metadata": {},
   "source": [
    "# 使用keras內建的MNIST手寫字符數據集\n",
    "## 其中訓練集有60,000張28x28像素灰度圖像， 測試集則有10,000張"
   ]
  },
  {
   "cell_type": "code",
   "execution_count": 14,
   "metadata": {},
   "outputs": [],
   "source": [
    "import cv2\n",
    "import numpy as np\n",
    "from keras.datasets import mnist\n",
    "from keras import utils"
   ]
  },
  {
   "cell_type": "code",
   "execution_count": 15,
   "metadata": {},
   "outputs": [],
   "source": [
    "# 載入訓練集\n",
    "(x_train, y_train), (x_test, y_test) = mnist.load_data() "
   ]
  },
  {
   "cell_type": "code",
   "execution_count": 16,
   "metadata": {},
   "outputs": [],
   "source": [
    "# 訓練集資料\n",
    "x_train = x_train.reshape(x_train.shape[0],-1)  # 轉換資料形狀 二為轉換成一維\n",
    "x_train = x_train.astype('float32')/255         # 轉換資料型別 由於是圖片最大的是255，所以全部除以255\n",
    "y_train = y_train.astype(np.float32)"
   ]
  },
  {
   "cell_type": "code",
   "execution_count": 17,
   "metadata": {},
   "outputs": [],
   "source": [
    "# 測試集資料\n",
    "x_test = x_test.reshape(x_test.shape[0],-1)     # 轉換資料形狀\n",
    "x_test = x_test.astype('float32')/255           # 轉換資料型別\n",
    "y_test = y_test.astype(np.float32)"
   ]
  },
  {
   "cell_type": "code",
   "execution_count": 18,
   "metadata": {},
   "outputs": [],
   "source": [
    "knn=cv2.ml.KNearest_create()                    # 建立 KNN 訓練方法\n",
    "knn.setDefaultK(5)                              # 參數設定\n",
    "knn.setIsClassifier(True)"
   ]
  },
  {
   "cell_type": "markdown",
   "metadata": {},
   "source": [
    "## 訓練後會將模型儲存為 mnist_knn.xml，儲存後會使用測試集進行測試"
   ]
  },
  {
   "cell_type": "code",
   "execution_count": 19,
   "metadata": {},
   "outputs": [
    {
     "name": "stdout",
     "output_type": "stream",
     "text": [
      "training...\n",
      "ok\n"
     ]
    }
   ],
   "source": [
    "print('training...')\n",
    "knn.train(x_train, cv2.ml.ROW_SAMPLE, y_train)  # 開始訓練\n",
    "knn.save('mnist_knn.xml')                       # 儲存訓練模型\n",
    "print('ok')"
   ]
  },
  {
   "cell_type": "code",
   "execution_count": 20,
   "metadata": {},
   "outputs": [
    {
     "name": "stdout",
     "output_type": "stream",
     "text": [
      "testing...\n",
      "[7. 2. 1. ... 4. 5. 6.]\n",
      "[7. 2. 1. ... 4. 5. 6.]\n",
      "0.9688\n"
     ]
    }
   ],
   "source": [
    "print('testing...')\n",
    "test_pre = knn.predict(x_test)                  # 讀取測試集並進行辨識\n",
    "test_ret = test_pre[1]\n",
    "test_ret = test_ret.reshape(-1,)\n",
    "print(test_ret)\n",
    "print(y_test)\n",
    "test_sum = (test_ret == y_test)   # test_lables\n",
    "acc = test_sum.mean()                           # 得到準確率\n",
    "print(acc)"
   ]
  },
  {
   "cell_type": "markdown",
   "metadata": {},
   "source": [
    "## 訓練好後就可以開始進行辨識，會先取出一個正方形的區域，將這個區域的像素轉成黑白的，轉換後在將尺寸縮小到 28x28 進行辨識，也會將辨識的影像顯示在原本影像的右上角。"
   ]
  },
  {
   "cell_type": "code",
   "execution_count": 21,
   "metadata": {},
   "outputs": [
    {
     "name": "stdout",
     "output_type": "stream",
     "text": [
      "loading...\n",
      "start...\n"
     ]
    }
   ],
   "source": [
    "import cv2\n",
    "import numpy as np\n",
    "\n",
    "cap = cv2.VideoCapture(0)                     # 啟用攝影鏡頭\n",
    "print('loading...')\n",
    "knn = cv2.ml.KNearest_load('mnist_knn.xml')   # 載入模型\n",
    "print('start...')\n",
    "if not cap.isOpened():\n",
    "    print(\"Cannot open camera\")\n",
    "    exit()\n",
    "while True:\n",
    "    ret, img = cap.read()\n",
    "    if not ret:\n",
    "        print(\"Cannot receive frame\")\n",
    "        break\n",
    "    img = cv2.resize(img,(540,300))          # 改變影像尺寸，加快處理效率\n",
    "    x, y, w, h = 400, 200, 60, 60            # 定義擷取數字的區域位置和大小\n",
    "    img_num = img.copy()                     # 複製一個影像作為辨識使用\n",
    "    img_num = img_num[y:y+h, x:x+w]          # 擷取辨識的區域\n",
    "\n",
    "    img_num = cv2.cvtColor(img_num, cv2.COLOR_BGR2GRAY)    # 顏色轉成灰階\n",
    "    # 針對白色文字，做二值化黑白轉換，轉成黑底白字\n",
    "    ret, img_num = cv2.threshold(img_num, 127, 255, cv2.THRESH_BINARY_INV)\n",
    "    output = cv2.cvtColor(img_num, cv2.COLOR_GRAY2BGR)     # 顏色轉成彩色\n",
    "    img[0:60, 480:540] = output                            # 將轉換後的影像顯示在畫面右上角\n",
    "\n",
    "    img_num = cv2.resize(img_num,(28,28))   # 縮小成 28x28，和訓練模型對照\n",
    "    img_num = img_num.astype(np.float32)    # 轉換格式\n",
    "    img_num = img_num.reshape(-1,)          # 打散成一維陣列資料，轉換成辨識使用的格式\n",
    "    img_num = img_num.reshape(1,-1)\n",
    "    img_num = img_num/255\n",
    "    img_pre = knn.predict(img_num)          # 進行辨識\n",
    "    num = str(int(img_pre[1][0][0]))        # 取得辨識結果\n",
    "\n",
    "    text = num                              # 印出的文字內容\n",
    "    org = (x,y-20)                          # 印出的文字位置\n",
    "    fontFace = cv2.FONT_HERSHEY_SIMPLEX     # 印出的文字字體\n",
    "    fontScale = 2                           # 印出的文字大小\n",
    "    color = (0,0,255)                       # 印出的文字顏色\n",
    "    thickness = 2                           # 印出的文字邊框粗細\n",
    "    lineType = cv2.LINE_AA                  # 印出的文字邊框樣式\n",
    "    cv2.putText(img, text, org, fontFace, fontScale, color, thickness, lineType) # 印出文字\n",
    "\n",
    "    cv2.rectangle(img,(x,y),(x+w,y+h),(0,0,255),3)  # 標記辨識的區域\n",
    "    cv2.imshow('lookhere', img)\n",
    "    if cv2.waitKey(50) == ord('q'):\n",
    "        break     # 按 q 鍵停止\n",
    "cap.release()\n",
    "cv2.destroyAllWindows()"
   ]
  }
 ],
 "metadata": {
  "kernelspec": {
   "display_name": "Python 3.9.13 ('venv': venv)",
   "language": "python",
   "name": "python3"
  },
  "language_info": {
   "codemirror_mode": {
    "name": "ipython",
    "version": 3
   },
   "file_extension": ".py",
   "mimetype": "text/x-python",
   "name": "python",
   "nbconvert_exporter": "python",
   "pygments_lexer": "ipython3",
   "version": "3.9.13"
  },
  "orig_nbformat": 4,
  "vscode": {
   "interpreter": {
    "hash": "c828fdeb02b9ea26d69005f36c4e8d236c1bd039a76c112c4af49c936fb078d8"
   }
  }
 },
 "nbformat": 4,
 "nbformat_minor": 2
}
